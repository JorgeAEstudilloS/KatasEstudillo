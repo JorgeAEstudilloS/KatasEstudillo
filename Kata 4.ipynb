{
 "cells": [
  {
   "cell_type": "markdown",
   "metadata": {},
   "source": [
    "Kata del Modulo 4"
   ]
  },
  {
   "cell_type": "code",
   "execution_count": 3,
   "metadata": {},
   "outputs": [
    {
     "name": "stdout",
     "output_type": "stream",
     "text": [
      "\n",
      "On average, the Moon moves 4cm away from the Earth every year\n",
      "The highest daylight temperature of the Moon is 127 C.\n",
      "\n",
      "On average, the Moon moves 4cm away from the Earth every year\n",
      "The highest daylight temperature of the Moon is 127 Celcius.\n"
     ]
    }
   ],
   "source": [
    "text = \"\"\"Interesting facts about the Moon. The Moon is Earth's only satellite. There are several interesting facts about the Moon and how it affects life here on Earth. \n",
    "On average, the Moon moves 4cm away from the Earth every year. This yearly drift is not significant enough to cause immediate effects on Earth. The highest daylight temperature of the Moon is 127 C.\"\"\"\n",
    "\n",
    "partes = text.split('. ')\n",
    "\n",
    "pistas = ['average','temperature','distance']\n",
    "\n",
    "for frase in partes:\n",
    "    for pista in pistas:\n",
    "        if pista in frase:\n",
    "            print(frase)\n",
    "            break\n",
    "\n",
    "for frase in partes:\n",
    "    for pista in pistas:\n",
    "        if pista in frase:\n",
    "            print(frase.replace('C', 'Celcius'))\n",
    "            break"
   ]
  },
  {
   "cell_type": "code",
   "execution_count": 18,
   "metadata": {},
   "outputs": [
    {
     "name": "stdout",
     "output_type": "stream",
     "text": [
      "Datos Sobre La Gravedad De: Earth Y Moon --------------------------------------------------------------------------------\n",
      "Nombre planeta: Earth\n",
      "Gravedad en Moon : 1.6199999999999999 m/s2\n",
      "Datos Sobre La Gravedad De: Earth Y Moon --------------------------------------------------------------------------------\n",
      "Nombre planeta: Earth\n",
      "Gravedad en Moon : 1.6199999999999999 m/s2\n",
      "--------------------------------------------------------------------------------\n",
      "Nombre planeta: Marte\n",
      "Gravedad en Ganimedes : 1.4300000000000002 m/s2\n"
     ]
    }
   ],
   "source": [
    "name = \"Moon\"\n",
    "gravity = 0.00162 \n",
    "planet = \"Earth\"\n",
    "\n",
    "titulo = f'Datos sobre la gravedad de: {planet} y {name}'\n",
    "\n",
    "hechos = f\"\"\"{'-'*80}\n",
    "Nombre planeta: {planet}\n",
    "Gravedad en {name} : {gravity * 1000} m/s2\"\"\"\n",
    "\n",
    "plantilla = f\"\"\"{titulo.title()} {hechos}\"\"\"\n",
    "\n",
    "print (plantilla)\n",
    "\n",
    "planet = 'Marte'\n",
    "gravity = 0.00143\n",
    "name = 'Ganimedes'\n",
    "\n",
    "print(plantilla)\n",
    "\n",
    "nueva_plantilla = f\"\"\"{'-'*80}\n",
    "Nombre planeta: {planet}\n",
    "Gravedad en {name} : {gravity * 1000} m/s2\"\"\"\n",
    "\n",
    "print(nueva_plantilla.format(planet=planet, name=name, gravity=gravity))"
   ]
  }
 ],
 "metadata": {
  "interpreter": {
   "hash": "c5a5e8f65143b18e96757527ad60980b761030044b82f8b5a1845d8a1795b078"
  },
  "kernelspec": {
   "display_name": "Python 3.10.2 64-bit (windows store)",
   "language": "python",
   "name": "python3"
  },
  "language_info": {
   "codemirror_mode": {
    "name": "ipython",
    "version": 3
   },
   "file_extension": ".py",
   "mimetype": "text/x-python",
   "name": "python",
   "nbconvert_exporter": "python",
   "pygments_lexer": "ipython3",
   "version": "3.10.2"
  },
  "orig_nbformat": 4
 },
 "nbformat": 4,
 "nbformat_minor": 2
}
