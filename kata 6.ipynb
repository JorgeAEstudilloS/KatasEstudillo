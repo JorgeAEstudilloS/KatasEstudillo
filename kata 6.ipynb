{
 "cells": [
  {
   "cell_type": "markdown",
   "metadata": {},
   "source": [
    "KATA MODULO 6"
   ]
  },
  {
   "cell_type": "code",
   "execution_count": 3,
   "metadata": {},
   "outputs": [
    {
     "name": "stdout",
     "output_type": "stream",
     "text": [
      "Hay 8 planetas en el sistema solar.\n",
      "pluton es el ultimo planeta.(No realmente)\n"
     ]
    }
   ],
   "source": [
    "planetas = ['mercurio', 'venus', 'tierra', 'marte', 'jupiter', 'saturno', 'urano', 'neptuno']\n",
    "print(\"Hay\", len(planetas), \"planetas en el sistema solar.\")\n",
    "\n",
    "planetas.append('pluton')\n",
    "print(planetas[-1], 'es el ultimo planeta.(No realmente)')"
   ]
  },
  {
   "cell_type": "code",
   "execution_count": 5,
   "metadata": {},
   "outputs": [
    {
     "name": "stdout",
     "output_type": "stream",
     "text": [
      "Estos son los planetas mas cercanos al sol que marte\n",
      "['mercurio', 'venus', 'tierra']\n",
      "Estos son los planetas mas lejanos al sol que marte\n",
      "['jupiter', 'saturno', 'urano', 'neptuno']\n"
     ]
    }
   ],
   "source": [
    "planetas = ['mercurio', 'venus', 'tierra', 'marte', 'jupiter', 'saturno', 'urano', 'neptuno']\n",
    "\n",
    "usuario = input('Dame el nombre del planeta (en minusculas)')\n",
    "\n",
    "planeta_index = planetas.index(usuario)\n",
    "\n",
    "print(f\"\"\"Estos son los planetas mas cercanos al sol que {usuario}\"\"\")\n",
    "print(planetas[0:planeta_index])\n",
    "\n",
    "print(f\"\"\"Estos son los planetas mas lejanos al sol que {usuario}\"\"\")\n",
    "print(planetas[planeta_index + 1:])"
   ]
  }
 ],
 "metadata": {
  "interpreter": {
   "hash": "c5a5e8f65143b18e96757527ad60980b761030044b82f8b5a1845d8a1795b078"
  },
  "kernelspec": {
   "display_name": "Python 3.10.2 64-bit (windows store)",
   "language": "python",
   "name": "python3"
  },
  "language_info": {
   "codemirror_mode": {
    "name": "ipython",
    "version": 3
   },
   "file_extension": ".py",
   "mimetype": "text/x-python",
   "name": "python",
   "nbconvert_exporter": "python",
   "pygments_lexer": "ipython3",
   "version": "3.10.2"
  },
  "orig_nbformat": 4
 },
 "nbformat": 4,
 "nbformat_minor": 2
}
