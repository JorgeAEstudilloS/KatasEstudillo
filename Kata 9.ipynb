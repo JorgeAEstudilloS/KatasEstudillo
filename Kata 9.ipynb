{
 "cells": [
  {
   "cell_type": "markdown",
   "metadata": {},
   "source": [
    "KATA MODULO 9"
   ]
  },
  {
   "cell_type": "code",
   "execution_count": 7,
   "metadata": {},
   "outputs": [
    {
     "name": "stdout",
     "output_type": "stream",
     "text": [
      "Resultados del chequeo: Promedio general: 20.0%, Tanque 1: 10%, Tanque2: 20%, Tanque3: 30%.\n",
      "Resultados del chequeo: Promedio general: 50.0%, Tanque 1: 30%, Tanque2: 50%, Tanque3: 70%.\n"
     ]
    }
   ],
   "source": [
    "def chequeo(tanque1, tanque2, tanque3):\n",
    "    promedio = (tanque1 + tanque2 + tanque3)/3\n",
    "\n",
    "    return f\"\"\"Resultados del chequeo: Promedio general: {promedio}%, Tanque 1: {tanque1}%, Tanque2: {tanque2}%, Tanque3: {tanque3}%.\"\"\"\n",
    "\n",
    "\n",
    "\n",
    "print(chequeo(10,20,30))\n",
    "\n",
    "def promedio(valores):\n",
    "    total = sum(valores)\n",
    "    cantidad = len(valores)\n",
    "    return total/cantidad\n",
    "\n",
    "\n",
    "promedio([80, 85, 81])\n",
    "\n",
    " \n",
    " \n",
    "def chequeo(tanque1, tanque2, tanque3):\n",
    "    return f\"\"\"Resultados del chequeo: Promedio general: {promedio([tanque1, tanque2, tanque3])}%, Tanque 1: {tanque1}%, Tanque2: {tanque2}%, Tanque3: {tanque3}%.\"\"\"\n",
    "\n",
    "\n",
    "print(chequeo(30,50,70))"
   ]
  },
  {
   "cell_type": "code",
   "execution_count": 13,
   "metadata": {},
   "outputs": [
    {
     "name": "stdout",
     "output_type": "stream",
     "text": [
      " Mision con destino a Mars, ETA: 525 dias, Combustible: 230000 litros.\n",
      " Mision con destino a Mars, ETA: 1650 minutos, Combustible restante: 13000000 litros.\n",
      " Mision con destino a Mars, ETA: 14575 minutos, Combustible restante: 1791393993 litros.\n",
      " El tanque1 tiene 400000000 litros restantes.\n",
      " El tanque2 tiene 1391393993 litros restantes.\n",
      "\n"
     ]
    }
   ],
   "source": [
    "def informe(hpl, tv, d, te, ti):\n",
    "    return f\"\"\" Mision con destino a {d}, ETA: {hpl + tv} dias, Combustible: {te + ti} litros.\"\"\"\n",
    "\n",
    "\n",
    "print(informe(14, 511, 'Mars', 200000, 30000))\n",
    "\n",
    "\n",
    "def informe(d, *minutes, **fuel_reservoirs):\n",
    "    return f\"\"\" Mision con destino a {d}, ETA: {sum(minutes)} minutos, Combustible restante: {sum(fuel_reservoirs.values())} litros.\"\"\"\n",
    "\n",
    "\n",
    "print(informe('Mars', 111,1415,124, tanque1 = 5000000, tanque2 = 8000000))\n",
    "\n",
    "\n",
    "def informe(d, *minutes, **fuel_reservoirs):\n",
    "    reporte = f\"\"\" Mision con destino a {d}, ETA: {sum(minutes)} minutos, Combustible restante: {sum(fuel_reservoirs.values())} litros.\\n\"\"\"\n",
    "    for tanque, litros in fuel_reservoirs.items():\n",
    "        reporte += f\" El {tanque} tiene {litros} litros restantes.\\n\"\n",
    "\n",
    "    return reporte\n",
    "\n",
    "\n",
    "print(informe(\"Mars\", 131, 1313, 13131, tanque1 = 400000000, tanque2 = 1391393993))"
   ]
  }
 ],
 "metadata": {
  "interpreter": {
   "hash": "c5a5e8f65143b18e96757527ad60980b761030044b82f8b5a1845d8a1795b078"
  },
  "kernelspec": {
   "display_name": "Python 3.10.2 64-bit (windows store)",
   "language": "python",
   "name": "python3"
  },
  "language_info": {
   "codemirror_mode": {
    "name": "ipython",
    "version": 3
   },
   "file_extension": ".py",
   "mimetype": "text/x-python",
   "name": "python",
   "nbconvert_exporter": "python",
   "pygments_lexer": "ipython3",
   "version": "3.10.2"
  },
  "orig_nbformat": 4
 },
 "nbformat": 4,
 "nbformat_minor": 2
}
