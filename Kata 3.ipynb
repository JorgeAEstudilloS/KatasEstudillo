{
 "cells": [
  {
   "cell_type": "markdown",
   "metadata": {},
   "source": [
    "Kata del Modulo 3"
   ]
  },
  {
   "cell_type": "code",
   "execution_count": 7,
   "metadata": {},
   "outputs": [
    {
     "name": "stdout",
     "output_type": "stream",
     "text": [
      "Cuidado, ASTEROIDE!\n"
     ]
    }
   ],
   "source": [
    "velocidad = 49\n",
    "advertencia = False\n",
    "\n",
    "if(velocidad > 25):\n",
    "    print('Cuidado, ASTEROIDE!')\n",
    "\n",
    "else:\n",
    "    print('Todos a salvo!')\n"
   ]
  },
  {
   "cell_type": "code",
   "execution_count": 6,
   "metadata": {},
   "outputs": [
    {
     "name": "stdout",
     "output_type": "stream",
     "text": [
      "Nada que ver por aca!\n"
     ]
    }
   ],
   "source": [
    "velocidad = 19\n",
    "\n",
    "if(velocidad >= 20):\n",
    "    print(\"Mira, un asteroide!\")\n",
    "\n",
    "else:\n",
    "    print('Nada que ver por aca!')\n"
   ]
  },
  {
   "cell_type": "code",
   "execution_count": 9,
   "metadata": {},
   "outputs": [
    {
     "name": "stdout",
     "output_type": "stream",
     "text": [
      "Mira, un asteroide!\n"
     ]
    }
   ],
   "source": [
    "size = 40\n",
    "velocidad = 25\n",
    "\n",
    "if(velocidad > 25 and size > 25):\n",
    "    print ('ALERTA ALERTA ALERTA')\n",
    "\n",
    "elif(size < 25):\n",
    "    print('Nada que ver por aca!')\n",
    "\n",
    "elif(velocidad >= 20):\n",
    "    print('Mira, un asteroide!')\n",
    "\n",
    "else:\n",
    "    print(\"Nada que ver por aca!\")"
   ]
  }
 ],
 "metadata": {
  "interpreter": {
   "hash": "c5a5e8f65143b18e96757527ad60980b761030044b82f8b5a1845d8a1795b078"
  },
  "kernelspec": {
   "display_name": "Python 3.10.2 64-bit (windows store)",
   "language": "python",
   "name": "python3"
  },
  "language_info": {
   "codemirror_mode": {
    "name": "ipython",
    "version": 3
   },
   "file_extension": ".py",
   "mimetype": "text/x-python",
   "name": "python",
   "nbconvert_exporter": "python",
   "pygments_lexer": "ipython3",
   "version": "3.10.2"
  },
  "orig_nbformat": 4
 },
 "nbformat": 4,
 "nbformat_minor": 2
}
